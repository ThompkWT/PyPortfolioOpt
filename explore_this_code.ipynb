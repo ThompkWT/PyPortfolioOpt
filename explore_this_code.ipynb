{
 "cells": [
  {
   "cell_type": "markdown",
   "metadata": {},
   "source": [
    "# [Template Source and Notes](https://github.com/xtreamsrl/jupytemplate)\n",
    "```\n",
    "# Find template path\n",
    "import jupytemplate\n",
    "print(jupytemplate.get_template_path()) => \n",
    "``` \n",
    "/Users/Tilt/anaconda3/lib/python3.7/site-packages/jupytemplate/jupytemplate/template.ipynb\n",
    "```\n",
    "#edit,   \n",
    "#then:\n",
    "jupyter nbextension install --py jupytemplate --sys-prefix\n",
    "jupyter nbextension enable jupytemplate/main --sys-prefix\n",
    "```\n",
    "\n",
    "## Title\n",
    "The title of the notebook should be coherent with file name. Namely, file name should be:    \n",
    "*author's initials_progressive number_title.ipynb*    \n",
    "For example:    \n",
    "*EF_01_Data Exploration.ipynb*\n",
    "\n",
    "## Purpose\n",
    "State the purpose of the notebook.\n",
    "\n",
    "## Methodology\n",
    "Quickly describe assumptions and processing steps.\n",
    "\n",
    "## WIP - improvements\n",
    "Use this section only if the notebook is not final.\n",
    "\n",
    "Notable TODOs:\n",
    "- todo 1;\n",
    "- todo 2;\n",
    "- todo 3.\n",
    "\n",
    "## Results\n",
    "Describe and comment the most important results.\n",
    "\n",
    "## Suggested next steps\n",
    "State suggested next steps, based on results obtained in this notebook."
   ]
  },
  {
   "cell_type": "markdown",
   "metadata": {},
   "source": [
    "# Setup\n",
    "\n",
    "## Library import\n",
    "We import all the required Python libraries"
   ]
  },
  {
   "cell_type": "code",
   "execution_count": 1,
   "metadata": {},
   "outputs": [
    {
     "data": {
      "text/html": [
       "        <script type=\"text/javascript\">\n",
       "        window.PlotlyConfig = {MathJaxConfig: 'local'};\n",
       "        if (window.MathJax) {MathJax.Hub.Config({SVG: {font: \"STIX-Web\"}});}\n",
       "        if (typeof require !== 'undefined') {\n",
       "        require.undef(\"plotly\");\n",
       "        requirejs.config({\n",
       "            paths: {\n",
       "                'plotly': ['https://cdn.plot.ly/plotly-latest.min']\n",
       "            }\n",
       "        });\n",
       "        require(['plotly'], function(Plotly) {\n",
       "            window._Plotly = Plotly;\n",
       "        });\n",
       "        }\n",
       "        </script>\n",
       "        "
      ]
     },
     "metadata": {},
     "output_type": "display_data"
    }
   ],
   "source": [
    "# Data manipulation\n",
    "import pandas as pd\n",
    "import numpy as np\n",
    "\n",
    "# Options for pandas\n",
    "pd.options.display.max_columns = 50\n",
    "pd.options.display.max_rows = 30\n",
    "\n",
    "# Visualizations\n",
    "import plotly\n",
    "import plotly.graph_objs as go\n",
    "import plotly.offline as ply\n",
    "plotly.offline.init_notebook_mode(connected=True)\n",
    "\n",
    "# import cufflinks as cf\n",
    "# cf.go_offline(connected=True)\n",
    "# cf.set_config_file(theme='white')\n",
    "\n",
    "import matplotlib as plt\n",
    "\n",
    "# Autoreload extension\n",
    "if 'autoreload' not in get_ipython().extension_manager.loaded:\n",
    "    %load_ext autoreload\n",
    "    \n",
    "%autoreload 2"
   ]
  },
  {
   "cell_type": "markdown",
   "metadata": {},
   "source": [
    "## Local library import\n",
    "We import all the required local libraries libraries"
   ]
  },
  {
   "cell_type": "code",
   "execution_count": 59,
   "metadata": {},
   "outputs": [],
   "source": [
    "from codebase.fin_functions.returns.simple_returns import returns_from_prices as my_returns_from_prices\n",
    "from codebase.fin_functions.returns.simple_returns import prices_from_returns as my_prices_from_returns\n",
    "from codebase.fin_functions.returns.simple_returns import mean_historical_return as my_mean_historical_return"
   ]
  },
  {
   "cell_type": "markdown",
   "metadata": {},
   "source": [
    "## Check out the Authors Example, it works"
   ]
  },
  {
   "cell_type": "code",
   "execution_count": 60,
   "metadata": {},
   "outputs": [
    {
     "data": {
      "text/html": [
       "<div>\n",
       "<style scoped>\n",
       "    .dataframe tbody tr th:only-of-type {\n",
       "        vertical-align: middle;\n",
       "    }\n",
       "\n",
       "    .dataframe tbody tr th {\n",
       "        vertical-align: top;\n",
       "    }\n",
       "\n",
       "    .dataframe thead th {\n",
       "        text-align: right;\n",
       "    }\n",
       "</style>\n",
       "<table border=\"1\" class=\"dataframe\">\n",
       "  <thead>\n",
       "    <tr style=\"text-align: right;\">\n",
       "      <th></th>\n",
       "      <th>GOOG</th>\n",
       "      <th>AAPL</th>\n",
       "      <th>FB</th>\n",
       "      <th>BABA</th>\n",
       "      <th>AMZN</th>\n",
       "      <th>GE</th>\n",
       "      <th>AMD</th>\n",
       "      <th>WMT</th>\n",
       "      <th>BAC</th>\n",
       "      <th>GM</th>\n",
       "      <th>T</th>\n",
       "      <th>UAA</th>\n",
       "      <th>SHLD</th>\n",
       "      <th>XOM</th>\n",
       "      <th>RRC</th>\n",
       "      <th>BBY</th>\n",
       "      <th>MA</th>\n",
       "      <th>PFE</th>\n",
       "      <th>JPM</th>\n",
       "      <th>SBUX</th>\n",
       "    </tr>\n",
       "    <tr>\n",
       "      <th>date</th>\n",
       "      <th></th>\n",
       "      <th></th>\n",
       "      <th></th>\n",
       "      <th></th>\n",
       "      <th></th>\n",
       "      <th></th>\n",
       "      <th></th>\n",
       "      <th></th>\n",
       "      <th></th>\n",
       "      <th></th>\n",
       "      <th></th>\n",
       "      <th></th>\n",
       "      <th></th>\n",
       "      <th></th>\n",
       "      <th></th>\n",
       "      <th></th>\n",
       "      <th></th>\n",
       "      <th></th>\n",
       "      <th></th>\n",
       "      <th></th>\n",
       "    </tr>\n",
       "  </thead>\n",
       "  <tbody>\n",
       "    <tr>\n",
       "      <th>1989-12-29</th>\n",
       "      <td>NaN</td>\n",
       "      <td>0.117203</td>\n",
       "      <td>NaN</td>\n",
       "      <td>NaN</td>\n",
       "      <td>NaN</td>\n",
       "      <td>0.352438</td>\n",
       "      <td>3.9375</td>\n",
       "      <td>3.486070</td>\n",
       "      <td>1.752478</td>\n",
       "      <td>NaN</td>\n",
       "      <td>2.365775</td>\n",
       "      <td>NaN</td>\n",
       "      <td>NaN</td>\n",
       "      <td>1.766756</td>\n",
       "      <td>NaN</td>\n",
       "      <td>0.166287</td>\n",
       "      <td>NaN</td>\n",
       "      <td>0.110818</td>\n",
       "      <td>1.827968</td>\n",
       "      <td>NaN</td>\n",
       "    </tr>\n",
       "    <tr>\n",
       "      <th>1990-01-02</th>\n",
       "      <td>NaN</td>\n",
       "      <td>0.123853</td>\n",
       "      <td>NaN</td>\n",
       "      <td>NaN</td>\n",
       "      <td>NaN</td>\n",
       "      <td>0.364733</td>\n",
       "      <td>4.1250</td>\n",
       "      <td>3.660858</td>\n",
       "      <td>1.766686</td>\n",
       "      <td>NaN</td>\n",
       "      <td>2.398184</td>\n",
       "      <td>NaN</td>\n",
       "      <td>NaN</td>\n",
       "      <td>1.766756</td>\n",
       "      <td>NaN</td>\n",
       "      <td>0.173216</td>\n",
       "      <td>NaN</td>\n",
       "      <td>0.113209</td>\n",
       "      <td>1.835617</td>\n",
       "      <td>NaN</td>\n",
       "    </tr>\n",
       "    <tr>\n",
       "      <th>1990-01-03</th>\n",
       "      <td>NaN</td>\n",
       "      <td>0.124684</td>\n",
       "      <td>NaN</td>\n",
       "      <td>NaN</td>\n",
       "      <td>NaN</td>\n",
       "      <td>0.364050</td>\n",
       "      <td>4.0000</td>\n",
       "      <td>3.660858</td>\n",
       "      <td>1.780897</td>\n",
       "      <td>NaN</td>\n",
       "      <td>2.356516</td>\n",
       "      <td>NaN</td>\n",
       "      <td>NaN</td>\n",
       "      <td>1.749088</td>\n",
       "      <td>NaN</td>\n",
       "      <td>0.194001</td>\n",
       "      <td>NaN</td>\n",
       "      <td>0.113608</td>\n",
       "      <td>1.896803</td>\n",
       "      <td>NaN</td>\n",
       "    </tr>\n",
       "    <tr>\n",
       "      <th>1990-01-04</th>\n",
       "      <td>NaN</td>\n",
       "      <td>0.125100</td>\n",
       "      <td>NaN</td>\n",
       "      <td>NaN</td>\n",
       "      <td>NaN</td>\n",
       "      <td>0.362001</td>\n",
       "      <td>3.9375</td>\n",
       "      <td>3.641439</td>\n",
       "      <td>1.743005</td>\n",
       "      <td>NaN</td>\n",
       "      <td>2.403821</td>\n",
       "      <td>NaN</td>\n",
       "      <td>NaN</td>\n",
       "      <td>1.731422</td>\n",
       "      <td>NaN</td>\n",
       "      <td>0.190537</td>\n",
       "      <td>NaN</td>\n",
       "      <td>0.115402</td>\n",
       "      <td>1.904452</td>\n",
       "      <td>NaN</td>\n",
       "    </tr>\n",
       "    <tr>\n",
       "      <th>1990-01-05</th>\n",
       "      <td>NaN</td>\n",
       "      <td>0.125516</td>\n",
       "      <td>NaN</td>\n",
       "      <td>NaN</td>\n",
       "      <td>NaN</td>\n",
       "      <td>0.358586</td>\n",
       "      <td>3.8125</td>\n",
       "      <td>3.602595</td>\n",
       "      <td>1.705114</td>\n",
       "      <td>NaN</td>\n",
       "      <td>2.287973</td>\n",
       "      <td>NaN</td>\n",
       "      <td>NaN</td>\n",
       "      <td>1.722587</td>\n",
       "      <td>NaN</td>\n",
       "      <td>0.190537</td>\n",
       "      <td>NaN</td>\n",
       "      <td>0.114405</td>\n",
       "      <td>1.912100</td>\n",
       "      <td>NaN</td>\n",
       "    </tr>\n",
       "  </tbody>\n",
       "</table>\n",
       "</div>"
      ],
      "text/plain": [
       "            GOOG      AAPL  FB  BABA  AMZN        GE     AMD       WMT  \\\n",
       "date                                                                     \n",
       "1989-12-29   NaN  0.117203 NaN   NaN   NaN  0.352438  3.9375  3.486070   \n",
       "1990-01-02   NaN  0.123853 NaN   NaN   NaN  0.364733  4.1250  3.660858   \n",
       "1990-01-03   NaN  0.124684 NaN   NaN   NaN  0.364050  4.0000  3.660858   \n",
       "1990-01-04   NaN  0.125100 NaN   NaN   NaN  0.362001  3.9375  3.641439   \n",
       "1990-01-05   NaN  0.125516 NaN   NaN   NaN  0.358586  3.8125  3.602595   \n",
       "\n",
       "                 BAC  GM         T  UAA  SHLD       XOM  RRC       BBY  MA  \\\n",
       "date                                                                         \n",
       "1989-12-29  1.752478 NaN  2.365775  NaN   NaN  1.766756  NaN  0.166287 NaN   \n",
       "1990-01-02  1.766686 NaN  2.398184  NaN   NaN  1.766756  NaN  0.173216 NaN   \n",
       "1990-01-03  1.780897 NaN  2.356516  NaN   NaN  1.749088  NaN  0.194001 NaN   \n",
       "1990-01-04  1.743005 NaN  2.403821  NaN   NaN  1.731422  NaN  0.190537 NaN   \n",
       "1990-01-05  1.705114 NaN  2.287973  NaN   NaN  1.722587  NaN  0.190537 NaN   \n",
       "\n",
       "                 PFE       JPM  SBUX  \n",
       "date                                  \n",
       "1989-12-29  0.110818  1.827968   NaN  \n",
       "1990-01-02  0.113209  1.835617   NaN  \n",
       "1990-01-03  0.113608  1.896803   NaN  \n",
       "1990-01-04  0.115402  1.904452   NaN  \n",
       "1990-01-05  0.114405  1.912100   NaN  "
      ]
     },
     "execution_count": 60,
     "metadata": {},
     "output_type": "execute_result"
    }
   ],
   "source": [
    "import pandas as pd\n",
    "from pypfopt.efficient_frontier import EfficientFrontier\n",
    "from pypfopt import risk_models\n",
    "from pypfopt import expected_returns\n",
    "\n",
    "# Read in price data\n",
    "df = pd.read_csv(\"tests/stock_prices.csv\", parse_dates=True, index_col=\"date\")\n",
    "df.head()"
   ]
  },
  {
   "cell_type": "code",
   "execution_count": 68,
   "metadata": {},
   "outputs": [
    {
     "data": {
      "text/plain": [
       "['GOOG', 'AAPL', 'FB', 'BABA', 'AMZN', 'GE', 'AMD', 'WMT', 'BAC', 'GM']"
      ]
     },
     "execution_count": 68,
     "metadata": {},
     "output_type": "execute_result"
    }
   ],
   "source": [
    "his_tickers = list(df.columns)\n",
    "his_tickers[0:10]"
   ]
  },
  {
   "cell_type": "code",
   "execution_count": null,
   "metadata": {},
   "outputs": [],
   "source": [
    "# Next Step is to substitute tiingo for his test data"
   ]
  },
  {
   "cell_type": "code",
   "execution_count": null,
   "metadata": {},
   "outputs": [],
   "source": []
  },
  {
   "cell_type": "code",
   "execution_count": 63,
   "metadata": {},
   "outputs": [
    {
     "name": "stdout",
     "output_type": "stream",
     "text": [
      "{'GOOG': 0.01269, 'AAPL': 0.09202, 'FB': 0.19856, 'BABA': 0.09642, 'AMZN': 0.07158, 'GE': 0.0, 'AMD': 0.0, 'WMT': 0.0, 'BAC': 0.0, 'GM': 0.0, 'T': 0.0, 'UAA': 0.0, 'SHLD': 0.0, 'XOM': 0.0, 'RRC': 0.0, 'BBY': 0.06129, 'MA': 0.24562, 'PFE': 0.18413, 'JPM': 0.0, 'SBUX': 0.03769}\n",
      "Expected annual return: 33.0%\n",
      "Annual volatility: 21.7%\n",
      "Sharpe Ratio: 1.43\n"
     ]
    },
    {
     "data": {
      "text/plain": [
       "(0.3303554231010918, 0.21671629594474784, 1.4320816150356195)"
      ]
     },
     "execution_count": 63,
     "metadata": {},
     "output_type": "execute_result"
    }
   ],
   "source": [
    "# Calculate expected returns and sample covariance\n",
    "#mu = expected_returns.mean_historical_return(df)\n",
    "mu = my_mean_historical_return(df)\n",
    "S = risk_models.sample_cov(df)\n",
    "\n",
    "# Optimise for maximal Sharpe ratio\n",
    "ef = EfficientFrontier(mu, S)\n",
    "raw_weights = ef.max_sharpe()\n",
    "cleaned_weights = ef.clean_weights()\n",
    "ef.save_weights_to_file(\"weights.csv\")  # saves to file\n",
    "print(cleaned_weights)\n",
    "results = ef.portfolio_performance(verbose=True)\n",
    "results"
   ]
  },
  {
   "cell_type": "code",
   "execution_count": 3,
   "metadata": {},
   "outputs": [],
   "source": [
    "# Include local library paths\n",
    "import sys\n",
    "codebasePath = '/Users/Tilt/codebase'\n",
    "sys.path.append(codebasePath) # uncomment and fill to import local libraries\n",
    "\n",
    "# Import local libraries"
   ]
  },
  {
   "cell_type": "markdown",
   "metadata": {},
   "source": [
    "# Parameter definition\n",
    "We set all relevant parameters for our notebook. By convention, parameters are uppercase, while all the \n",
    "other variables follow Python's guidelines.\n",
    "\n",
    "[Article Link, Forked From](https://github.com/robertmartin8/PyPortfolioOpt)"
   ]
  },
  {
   "cell_type": "code",
   "execution_count": null,
   "metadata": {},
   "outputs": [],
   "source": []
  },
  {
   "cell_type": "markdown",
   "metadata": {},
   "source": [
    "\n",
    "# Data import\n",
    "We retrieve all the required data for the analysis."
   ]
  },
  {
   "cell_type": "code",
   "execution_count": null,
   "metadata": {},
   "outputs": [],
   "source": []
  },
  {
   "cell_type": "markdown",
   "metadata": {},
   "source": [
    "# Test my translations of his code examples"
   ]
  },
  {
   "cell_type": "code",
   "execution_count": 3,
   "metadata": {},
   "outputs": [
    {
     "data": {
      "text/html": [
       "<div>\n",
       "<style scoped>\n",
       "    .dataframe tbody tr th:only-of-type {\n",
       "        vertical-align: middle;\n",
       "    }\n",
       "\n",
       "    .dataframe tbody tr th {\n",
       "        vertical-align: top;\n",
       "    }\n",
       "\n",
       "    .dataframe thead th {\n",
       "        text-align: right;\n",
       "    }\n",
       "</style>\n",
       "<table border=\"1\" class=\"dataframe\">\n",
       "  <thead>\n",
       "    <tr style=\"text-align: right;\">\n",
       "      <th></th>\n",
       "      <th>GE</th>\n",
       "      <th>WMT</th>\n",
       "      <th>BAC</th>\n",
       "    </tr>\n",
       "    <tr>\n",
       "      <th>date</th>\n",
       "      <th></th>\n",
       "      <th></th>\n",
       "      <th></th>\n",
       "    </tr>\n",
       "  </thead>\n",
       "  <tbody>\n",
       "    <tr>\n",
       "      <th>1989-12-29</th>\n",
       "      <td>0.352438</td>\n",
       "      <td>3.486070</td>\n",
       "      <td>1.752478</td>\n",
       "    </tr>\n",
       "    <tr>\n",
       "      <th>1990-01-02</th>\n",
       "      <td>0.364733</td>\n",
       "      <td>3.660858</td>\n",
       "      <td>1.766686</td>\n",
       "    </tr>\n",
       "    <tr>\n",
       "      <th>1990-01-03</th>\n",
       "      <td>0.364050</td>\n",
       "      <td>3.660858</td>\n",
       "      <td>1.780897</td>\n",
       "    </tr>\n",
       "    <tr>\n",
       "      <th>1990-01-04</th>\n",
       "      <td>0.362001</td>\n",
       "      <td>3.641439</td>\n",
       "      <td>1.743005</td>\n",
       "    </tr>\n",
       "    <tr>\n",
       "      <th>1990-01-05</th>\n",
       "      <td>0.358586</td>\n",
       "      <td>3.602595</td>\n",
       "      <td>1.705114</td>\n",
       "    </tr>\n",
       "  </tbody>\n",
       "</table>\n",
       "</div>"
      ],
      "text/plain": [
       "                  GE       WMT       BAC\n",
       "date                                    \n",
       "1989-12-29  0.352438  3.486070  1.752478\n",
       "1990-01-02  0.364733  3.660858  1.766686\n",
       "1990-01-03  0.364050  3.660858  1.780897\n",
       "1990-01-04  0.362001  3.641439  1.743005\n",
       "1990-01-05  0.358586  3.602595  1.705114"
      ]
     },
     "execution_count": 3,
     "metadata": {},
     "output_type": "execute_result"
    }
   ],
   "source": [
    "df[['GE', 'WMT', 'BAC']].head()# ['GE', 'WMT', 'BAC']"
   ]
  },
  {
   "cell_type": "code",
   "execution_count": 47,
   "metadata": {
    "scrolled": true
   },
   "outputs": [
    {
     "data": {
      "text/html": [
       "<div>\n",
       "<style scoped>\n",
       "    .dataframe tbody tr th:only-of-type {\n",
       "        vertical-align: middle;\n",
       "    }\n",
       "\n",
       "    .dataframe tbody tr th {\n",
       "        vertical-align: top;\n",
       "    }\n",
       "\n",
       "    .dataframe thead th {\n",
       "        text-align: right;\n",
       "    }\n",
       "</style>\n",
       "<table border=\"1\" class=\"dataframe\">\n",
       "  <thead>\n",
       "    <tr style=\"text-align: right;\">\n",
       "      <th></th>\n",
       "      <th>GE</th>\n",
       "      <th>WMT</th>\n",
       "      <th>BAC</th>\n",
       "    </tr>\n",
       "    <tr>\n",
       "      <th>date</th>\n",
       "      <th></th>\n",
       "      <th></th>\n",
       "      <th></th>\n",
       "    </tr>\n",
       "  </thead>\n",
       "  <tbody>\n",
       "    <tr>\n",
       "      <th>2018-04-05</th>\n",
       "      <td>13.43</td>\n",
       "      <td>87.809998</td>\n",
       "      <td>30.320000</td>\n",
       "    </tr>\n",
       "    <tr>\n",
       "      <th>2018-04-06</th>\n",
       "      <td>13.06</td>\n",
       "      <td>86.690002</td>\n",
       "      <td>29.629999</td>\n",
       "    </tr>\n",
       "    <tr>\n",
       "      <th>2018-04-09</th>\n",
       "      <td>12.83</td>\n",
       "      <td>86.279999</td>\n",
       "      <td>29.870001</td>\n",
       "    </tr>\n",
       "    <tr>\n",
       "      <th>2018-04-10</th>\n",
       "      <td>13.05</td>\n",
       "      <td>86.449997</td>\n",
       "      <td>30.480000</td>\n",
       "    </tr>\n",
       "    <tr>\n",
       "      <th>2018-04-11</th>\n",
       "      <td>12.97</td>\n",
       "      <td>85.910004</td>\n",
       "      <td>29.900000</td>\n",
       "    </tr>\n",
       "  </tbody>\n",
       "</table>\n",
       "</div>"
      ],
      "text/plain": [
       "               GE        WMT        BAC\n",
       "date                                   \n",
       "2018-04-05  13.43  87.809998  30.320000\n",
       "2018-04-06  13.06  86.690002  29.629999\n",
       "2018-04-09  12.83  86.279999  29.870001\n",
       "2018-04-10  13.05  86.449997  30.480000\n",
       "2018-04-11  12.97  85.910004  29.900000"
      ]
     },
     "execution_count": 47,
     "metadata": {},
     "output_type": "execute_result"
    }
   ],
   "source": [
    "my_df = df[['GE', 'WMT', 'BAC']]#['1989-12':'1990-01']\n",
    "my_df.tail()"
   ]
  },
  {
   "cell_type": "code",
   "execution_count": 51,
   "metadata": {},
   "outputs": [
    {
     "data": {
      "text/html": [
       "<div>\n",
       "<style scoped>\n",
       "    .dataframe tbody tr th:only-of-type {\n",
       "        vertical-align: middle;\n",
       "    }\n",
       "\n",
       "    .dataframe tbody tr th {\n",
       "        vertical-align: top;\n",
       "    }\n",
       "\n",
       "    .dataframe thead th {\n",
       "        text-align: right;\n",
       "    }\n",
       "</style>\n",
       "<table border=\"1\" class=\"dataframe\">\n",
       "  <thead>\n",
       "    <tr style=\"text-align: right;\">\n",
       "      <th></th>\n",
       "      <th>GE</th>\n",
       "      <th>WMT</th>\n",
       "      <th>BAC</th>\n",
       "    </tr>\n",
       "    <tr>\n",
       "      <th>date</th>\n",
       "      <th></th>\n",
       "      <th></th>\n",
       "      <th></th>\n",
       "    </tr>\n",
       "  </thead>\n",
       "  <tbody>\n",
       "    <tr>\n",
       "      <th>1989-12-29</th>\n",
       "      <td>0.352438</td>\n",
       "      <td>3.486070</td>\n",
       "      <td>1.752478</td>\n",
       "    </tr>\n",
       "    <tr>\n",
       "      <th>1990-01-02</th>\n",
       "      <td>0.364733</td>\n",
       "      <td>3.660858</td>\n",
       "      <td>1.766686</td>\n",
       "    </tr>\n",
       "    <tr>\n",
       "      <th>1990-01-03</th>\n",
       "      <td>0.364050</td>\n",
       "      <td>3.660858</td>\n",
       "      <td>1.780897</td>\n",
       "    </tr>\n",
       "    <tr>\n",
       "      <th>1990-01-04</th>\n",
       "      <td>0.362001</td>\n",
       "      <td>3.641439</td>\n",
       "      <td>1.743005</td>\n",
       "    </tr>\n",
       "    <tr>\n",
       "      <th>1990-01-05</th>\n",
       "      <td>0.358586</td>\n",
       "      <td>3.602595</td>\n",
       "      <td>1.705114</td>\n",
       "    </tr>\n",
       "  </tbody>\n",
       "</table>\n",
       "</div>"
      ],
      "text/plain": [
       "                  GE       WMT       BAC\n",
       "date                                    \n",
       "1989-12-29  0.352438  3.486070  1.752478\n",
       "1990-01-02  0.364733  3.660858  1.766686\n",
       "1990-01-03  0.364050  3.660858  1.780897\n",
       "1990-01-04  0.362001  3.641439  1.743005\n",
       "1990-01-05  0.358586  3.602595  1.705114"
      ]
     },
     "execution_count": 51,
     "metadata": {},
     "output_type": "execute_result"
    }
   ],
   "source": [
    "my_df.head()"
   ]
  },
  {
   "cell_type": "code",
   "execution_count": 45,
   "metadata": {},
   "outputs": [],
   "source": [
    "from codebase.fin_functions.returns.simple_returns import returns_from_prices as my_returns_from_prices\n",
    "from codebase.fin_functions.returns.simple_returns import prices_from_returns as my_prices_from_returns"
   ]
  },
  {
   "cell_type": "code",
   "execution_count": 58,
   "metadata": {},
   "outputs": [
    {
     "name": "stdout",
     "output_type": "stream",
     "text": [
      "portfolio return: 2,203.35%\n"
     ]
    }
   ],
   "source": [
    "weights = np.array([1.0,1.0,1.0])\n",
    "quantity = np.array([1.0,1.0,1.0])\n",
    "\n",
    "def re_price_portfolio(prices,weights,quantity):\n",
    "    my_returns,initalPrices = my_returns_from_prices(prices,dropna=False)\n",
    "    new_prices = my_prices_from_returns(my_returns,initalPrices)\n",
    "    new_prices = new_prices*weights*quantity\n",
    "    new_prices['Total Value'] = new_prices.sum(axis=1)\n",
    "    portfolioReturn = ((new_prices.iloc[-1]['Total Value']/new_prices.iloc[0]['Total Value'])-1.0)*100.\n",
    "    print('portfolio return: {0:,.2f}%'.format(portfolioReturn))\n",
    "    #print('initial Prices\\n',new_prices.iloc[0])\n",
    "    #print('final Prices\\n',new_prices.iloc[-1])\n",
    "    return new_prices\n",
    "\n",
    "newPrices= re_price_portfolio(my_df,weights,quantity)\n",
    "\n"
   ]
  },
  {
   "cell_type": "code",
   "execution_count": null,
   "metadata": {},
   "outputs": [],
   "source": []
  },
  {
   "cell_type": "code",
   "execution_count": null,
   "metadata": {},
   "outputs": [],
   "source": []
  }
 ],
 "metadata": {
  "kernelspec": {
   "display_name": "Python 3",
   "language": "python",
   "name": "python3"
  },
  "language_info": {
   "codemirror_mode": {
    "name": "ipython",
    "version": 3
   },
   "file_extension": ".py",
   "mimetype": "text/x-python",
   "name": "python",
   "nbconvert_exporter": "python",
   "pygments_lexer": "ipython3",
   "version": "3.7.3"
  },
  "toc": {
   "base_numbering": 1,
   "nav_menu": {},
   "number_sections": true,
   "sideBar": true,
   "skip_h1_title": false,
   "title_cell": "Table of Contents",
   "title_sidebar": "Contents",
   "toc_cell": false,
   "toc_position": {},
   "toc_section_display": true,
   "toc_window_display": false
  },
  "varInspector": {
   "cols": {
    "lenName": 16,
    "lenType": 16,
    "lenVar": 40
   },
   "kernels_config": {
    "python": {
     "delete_cmd_postfix": "",
     "delete_cmd_prefix": "del ",
     "library": "var_list.py",
     "varRefreshCmd": "print(var_dic_list())"
    },
    "r": {
     "delete_cmd_postfix": ") ",
     "delete_cmd_prefix": "rm(",
     "library": "var_list.r",
     "varRefreshCmd": "cat(var_dic_list()) "
    }
   },
   "types_to_exclude": [
    "module",
    "function",
    "builtin_function_or_method",
    "instance",
    "_Feature"
   ],
   "window_display": false
  }
 },
 "nbformat": 4,
 "nbformat_minor": 2
}
